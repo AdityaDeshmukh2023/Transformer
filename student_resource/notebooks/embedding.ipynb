{
  "nbformat": 4,
  "nbformat_minor": 0,
  "metadata": {
    "colab": {
      "private_outputs": true,
      "provenance": [],
      "gpuType": "T4"
    },
    "kernelspec": {
      "name": "python3",
      "display_name": "Python 3"
    },
    "language_info": {
      "name": "python"
    },
    "accelerator": "GPU"
  },
  "cells": [
    {
      "cell_type": "code",
      "execution_count": null,
      "metadata": {
        "id": "LH_WUCw3KFLC"
      },
      "outputs": [],
      "source": [
        "import torch\n",
        "\n",
        "if torch.cuda.is_available():\n",
        "    print(\"CUDA is available ✅\")\n",
        "    print(\"Device name:\", torch.cuda.get_device_name(0))\n",
        "else:\n",
        "    print(\"CUDA is not available ❌\")"
      ]
    },
    {
      "cell_type": "code",
      "source": [
        "import pandas as pd\n",
        "import numpy as np\n",
        "import tqdm"
      ],
      "metadata": {
        "id": "c11RJt5cKNvl"
      },
      "execution_count": null,
      "outputs": []
    },
    {
      "cell_type": "code",
      "source": [
        "data = pd.read_csv(\"/content/train.csv\")\n",
        "data.head()\n"
      ],
      "metadata": {
        "id": "i54_kRgZeb5z"
      },
      "execution_count": null,
      "outputs": []
    },
    {
      "cell_type": "code",
      "source": [
        "seed = 42\n",
        "data = data.sample(frac=0.35, random_state=seed)\n",
        "data"
      ],
      "metadata": {
        "id": "QMMQpNY5enrz"
      },
      "execution_count": null,
      "outputs": []
    },
    {
      "cell_type": "code",
      "source": [
        "from sklearn.model_selection import train_test_split\n",
        "\n",
        "x_train, x_test, y_train, y_test = train_test_split(\n",
        "    data.drop(columns=['price']),  # features\n",
        "    data['price'],                 # target\n",
        "    test_size=0.2,\n",
        "    random_state=42\n",
        ")\n",
        "\n",
        "print(f\"x_train, y_train: {(x_train.shape, y_train.shape)}\")\n"
      ],
      "metadata": {
        "id": "E9L2yM16zj1c"
      },
      "execution_count": null,
      "outputs": []
    },
    {
      "cell_type": "code",
      "source": [
        "x_train.head()"
      ],
      "metadata": {
        "id": "ZyYsxG_L0WKr"
      },
      "execution_count": null,
      "outputs": []
    },
    {
      "cell_type": "code",
      "source": [
        "data['image_link']"
      ],
      "metadata": {
        "id": "UJNWAgDPgKiD"
      },
      "execution_count": null,
      "outputs": []
    },
    {
      "cell_type": "code",
      "source": [
        "import torch\n",
        "from torch import nn\n",
        "from torchvision import models, transforms\n",
        "from PIL import Image\n",
        "import requests\n",
        "from io import BytesIO\n",
        "import pandas as pd"
      ],
      "metadata": {
        "id": "xilPngQ4tElI"
      },
      "execution_count": null,
      "outputs": []
    },
    {
      "cell_type": "code",
      "source": [
        "# Image preprocessing (as expected by ResNet)\n",
        "transform = transforms.Compose([\n",
        "    transforms.Resize(256),\n",
        "    transforms.CenterCrop(224),\n",
        "    transforms.ToTensor(),\n",
        "    transforms.Normalize(mean=[0.485, 0.456, 0.406],\n",
        "                         std=[0.229, 0.224, 0.225])\n",
        "])\n"
      ],
      "metadata": {
        "id": "BylxzgMauwFD"
      },
      "execution_count": null,
      "outputs": []
    },
    {
      "cell_type": "code",
      "source": [
        "# Load pretrained ResNet50\n",
        "model = models.resnet50(pretrained=True)\n",
        "model = nn.Sequential(*list(model.children())[:-1])  # remove classifier\n",
        "model.eval()"
      ],
      "metadata": {
        "collapsed": true,
        "id": "toHLOQCcu0Ip"
      },
      "execution_count": null,
      "outputs": []
    },
    {
      "cell_type": "code",
      "source": [
        "# Use GPU if available\n",
        "device = torch.device(\"cuda\" if torch.cuda.is_available() else \"cpu\")\n",
        "model = model.to(device)"
      ],
      "metadata": {
        "id": "xb6IjXQ3u3ib"
      },
      "execution_count": null,
      "outputs": []
    },
    {
      "cell_type": "code",
      "source": [
        "def get_image_embedding(urls):\n",
        "    \"\"\"Handles single or multiple URLs per product (list or str)\"\"\"\n",
        "    if isinstance(urls, str):\n",
        "        urls = [urls]\n",
        "    embeddings = []\n",
        "    for url in urls:\n",
        "        try:\n",
        "            response = requests.get(url, timeout=10)\n",
        "            img = Image.open(BytesIO(response.content)).convert('RGB')\n",
        "            img_t = transform(img).unsqueeze(0).to(device)\n",
        "            with torch.no_grad():\n",
        "                emb = model(img_t).squeeze().cpu()\n",
        "            embeddings.append(emb)\n",
        "        except Exception as e:\n",
        "            print(f\"Error loading {url}: {e}\")\n",
        "    if embeddings:\n",
        "        return torch.stack(embeddings).mean(dim=0)  # average for multiple imgs\n",
        "    else:\n",
        "        return torch.zeros(2048)  # if failed"
      ],
      "metadata": {
        "id": "I8Y4qXe1u75G"
      },
      "execution_count": null,
      "outputs": []
    },
    {
      "cell_type": "code",
      "source": [
        "# Wrap with tqdm for progress bar\n",
        "x_train['image_embedding'] = [\n",
        "    get_image_embedding(url) for url in tqdm.tqdm(x_train['image_link'], desc=\"Processing Images\")\n",
        "]\n",
        "\n",
        "print(x_train['image_embedding'].head())"
      ],
      "metadata": {
        "id": "2MeO53U_vCLz"
      },
      "execution_count": null,
      "outputs": []
    },
    {
      "cell_type": "code",
      "source": [
        "x_train.iloc[0,3]"
      ],
      "metadata": {
        "id": "OXxVWcRCvHjI"
      },
      "execution_count": null,
      "outputs": []
    },
    {
      "cell_type": "code",
      "source": [
        "x_train.head()"
      ],
      "metadata": {
        "id": "grrU98bj8adI"
      },
      "execution_count": null,
      "outputs": []
    },
    {
      "cell_type": "code",
      "source": [
        "x_train['catalog_content'].head()"
      ],
      "metadata": {
        "id": "I5QUhnqq-WdN"
      },
      "execution_count": null,
      "outputs": []
    },
    {
      "cell_type": "code",
      "source": [
        "for item in x_train['catalog_content']:\n",
        "  print(item)"
      ],
      "metadata": {
        "collapsed": true,
        "id": "ykXftFbC-i5g"
      },
      "execution_count": null,
      "outputs": []
    },
    {
      "cell_type": "code",
      "source": [
        "import pandas as pd\n",
        "import numpy as np\n",
        "from sentence_transformers import SentenceTransformer\n",
        "import re"
      ],
      "metadata": {
        "id": "FrNEzSo2Bqss"
      },
      "execution_count": null,
      "outputs": []
    },
    {
      "cell_type": "code",
      "source": [
        "def preprocess_catalog_text(text):\n",
        "    if not isinstance(text, str):\n",
        "        return \"\"\n",
        "\n",
        "    # Extract specific fields (use regex with optional presence)\n",
        "    item_name = re.search(r\"Item Name:\\s*(.*)\", text)\n",
        "    desc = re.search(r\"Product Description:\\s*(.*)\", text, re.DOTALL)\n",
        "    value = re.search(r\"Value:\\s*([\\d.]+)\", text)\n",
        "    unit = re.search(r\"Unit:\\s*([A-Za-z]+)\", text)\n",
        "\n",
        "    # Extract all bullet points (1 to 5)\n",
        "    bullet_points = re.findall(r\"Bullet Point \\d+:\\s*(.*)\", text)\n",
        "\n",
        "    # Combine clean text parts\n",
        "    text_parts = []\n",
        "    if item_name: text_parts.append(item_name.group(1).strip())\n",
        "    if bullet_points: text_parts.extend([bp.strip() for bp in bullet_points])\n",
        "    if desc: text_parts.append(desc.group(1).strip())\n",
        "    if value and unit:\n",
        "        text_parts.append(f\"Quantity: {value.group(1)} {unit.group(1)}\")\n",
        "    elif value:\n",
        "        text_parts.append(f\"Quantity: {value.group(1)}\")\n",
        "\n",
        "    return \" \".join(text_parts)"
      ],
      "metadata": {
        "id": "pK1tp80z-9u0"
      },
      "execution_count": null,
      "outputs": []
    },
    {
      "cell_type": "code",
      "source": [
        "x_train[\"clean_text\"] = x_train[\"catalog_content\"].apply(preprocess_catalog_text)"
      ],
      "metadata": {
        "id": "8USv4ApsCtfy"
      },
      "execution_count": null,
      "outputs": []
    },
    {
      "cell_type": "code",
      "source": [
        "x_train[\"clean_text\"][0:10]"
      ],
      "metadata": {
        "id": "UDTZ0WY0C-3I"
      },
      "execution_count": null,
      "outputs": []
    },
    {
      "cell_type": "code",
      "source": [
        "model_text = SentenceTransformer(\"sentence-transformers/all-MiniLM-L6-v2\")\n",
        "\n",
        "x_train[\"text_embedding\"] = x_train[\"clean_text\"].apply(lambda x: model_text.encode(x))\n",
        "print(x_train[\"text_embedding\"].iloc[0].shape)  # → (384,)\n"
      ],
      "metadata": {
        "id": "ED7znPnNDJJz"
      },
      "execution_count": null,
      "outputs": []
    },
    {
      "cell_type": "code",
      "source": [
        "x_train.head()"
      ],
      "metadata": {
        "id": "uOkS1R2-CMyE"
      },
      "execution_count": null,
      "outputs": []
    },
    {
      "cell_type": "code",
      "source": [
        "import torch\n",
        "\n",
        "def concat_embeddings(img_emb, txt_emb):\n",
        "    img_emb = torch.tensor(img_emb, dtype=torch.float32)\n",
        "    txt_emb = torch.tensor(txt_emb, dtype=torch.float32)\n",
        "    return torch.cat([img_emb, txt_emb], dim=0)\n",
        "\n",
        "x_train[\"combined_embedding\"] = x_train.apply(\n",
        "    lambda row: concat_embeddings(row[\"image_embedding\"], row[\"text_embedding\"]),\n",
        "    axis=1\n",
        ")\n"
      ],
      "metadata": {
        "id": "p6DGSNQYD8FN"
      },
      "execution_count": null,
      "outputs": []
    },
    {
      "cell_type": "code",
      "source": [
        "x_train.head()"
      ],
      "metadata": {
        "id": "85jtk16QESgn"
      },
      "execution_count": null,
      "outputs": []
    },
    {
      "cell_type": "code",
      "source": [],
      "metadata": {
        "id": "kIeb4BUoEf_g"
      },
      "execution_count": null,
      "outputs": []
    }
  ]
}